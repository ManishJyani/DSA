{
 "cells": [
  {
   "cell_type": "markdown",
   "metadata": {},
   "source": [
    "## Lets start with defining it\n",
    "\n",
    "A Linked List is a linear data structure where elements (called nodes) are linked together using pointers.\n",
    "\n",
    "Each node contains:\n",
    "\n",
    "Data (the actual value stored in the node).\n",
    "Pointer (Reference) to the next node in the sequence.\n",
    "Unlike arrays, linked lists do not use contiguous memory locations; instead, each node is dynamically allocated and connected via pointers."
   ]
  },
  {
   "cell_type": "markdown",
   "metadata": {},
   "source": [
    "[10 | *] → [20 | *] → [30 | *] → [40 | None]\n",
    "so each [10 | *] is called a node , where 10 is acutal  data and * pointer , means the location of the next data stored."
   ]
  },
  {
   "cell_type": "markdown",
   "metadata": {},
   "source": [
    "The question is each node memory allocation is continuous or not"
   ]
  },
  {
   "cell_type": "markdown",
   "metadata": {},
   "source": [
    "Answer is yes\n",
    "Memory Address (Hex)   Content\n",
    "---------------------------------\n",
    "0x1000                [10]  (4B - Data)\n",
    "0x1004                [Padding] (4B - Alignment)\n",
    "0x1008                [0x1508] (8B - Pointer to next node)\n",
    "---------------------------------\n",
    "0x1508                [20]  (4B - Data)\n",
    "0x150C                [Padding] (4B - Alignment)\n",
    "0x1510                [0x1A20] (8B - Pointer to next node)\n",
    "---------------------------------\n"
   ]
  },
  {
   "cell_type": "code",
   "execution_count": 27,
   "metadata": {},
   "outputs": [
    {
     "name": "stdout",
     "output_type": "stream",
     "text": [
      "[ 10 | * ] → [ 20 | None ] → None\n"
     ]
    }
   ],
   "source": [
    "class Node:\n",
    "    def __init__(self, value):\n",
    "        self.value = value  # Creates self.value dynamically\n",
    "        self.next = None  # Creates self.next dynamically\n",
    "\n",
    "# Step 1: Create first node\n",
    "node1 = Node(10)\n",
    "\n",
    "# Step 2: Create second node\n",
    "node2 = Node(20)\n",
    "\n",
    "# Step 3: Link node1 to node2\n",
    "node1.next = node2\n",
    "# node2.next= 30\n",
    "\n",
    "# Printing Linked List\n",
    "current = node1\n",
    "while current:\n",
    "\n",
    "    print(f\"[ {current.value} | {'None' if current.next is None else '*'} ] → \",end=\"\")\n",
    "    current = current.next\n",
    "print(\"None\")\n"
   ]
  },
  {
   "cell_type": "code",
   "execution_count": 18,
   "metadata": {},
   "outputs": [
    {
     "name": "stdout",
     "output_type": "stream",
     "text": [
      "[ 10 | * ] → [ 20 | None ] → None\n"
     ]
    }
   ],
   "source": [
    "# Step 1: Create the first node (Head)\n",
    "node1 = {\"value\": 10, \"next\": None}\n",
    "\n",
    "# Step 2: Create the second node\n",
    "node2 = {\"value\": 20, \"next\": None}\n",
    "\n",
    "# Step 3: Link node1 to node2\n",
    "node1[\"next\"] = node2  # Just like node1.next = node2 in a class-based approach\n",
    "\n",
    "# Step 4: Traverse and Print\n",
    "current = node1\n",
    "while current:\n",
    "    print(f\"[ {current['value']} | {'None' if current['next'] is None else '*'} ] → \", end=\"\")\n",
    "    current = current[\"next\"]\n",
    "\n",
    "print(\"None\")\n"
   ]
  },
  {
   "cell_type": "code",
   "execution_count": 53,
   "metadata": {},
   "outputs": [],
   "source": [
    "## lets build the link list\n",
    "class Node:\n",
    "    def __init__(self,value):\n",
    "        self.value= value\n",
    "        self.next= None\n",
    "\n",
    "class LinkedList:\n",
    "    def __init__(self):\n",
    "        self.head= None\n",
    "\n",
    "    def append(self,value):\n",
    "        new_node= Node(value)\n",
    "        if not self.head:\n",
    "            self.head= new_node\n",
    "            return \n",
    "    \n",
    "        current = self.head\n",
    "        while current.next:\n",
    "            current = current.next\n",
    "        current.next = new_node\n",
    "\n",
    "\n",
    "ll = LinkedList()\n",
    "ll.append(10)\n",
    "ll.append(20)\n",
    "ll.append(30)\n",
    "        "
   ]
  },
  {
   "cell_type": "code",
   "execution_count": 58,
   "metadata": {},
   "outputs": [
    {
     "name": "stdout",
     "output_type": "stream",
     "text": [
      "[ 10 | * ] → [ 20 | * ] → [ 30 | None ] → "
     ]
    }
   ],
   "source": [
    "count= 0\n",
    "current = ll.head\n",
    "while current:\n",
    "    print(f\"[ {current.value} | {'None' if current.next is None else '*'} ] → \", end=\"\")\n",
    "    current = current.next\n",
    "    count +=1"
   ]
  },
  {
   "cell_type": "code",
   "execution_count": null,
   "metadata": {},
   "outputs": [],
   "source": []
  },
  {
   "cell_type": "markdown",
   "metadata": {},
   "source": []
  }
 ],
 "metadata": {
  "kernelspec": {
   "display_name": "Python 3",
   "language": "python",
   "name": "python3"
  },
  "language_info": {
   "codemirror_mode": {
    "name": "ipython",
    "version": 3
   },
   "file_extension": ".py",
   "mimetype": "text/x-python",
   "name": "python",
   "nbconvert_exporter": "python",
   "pygments_lexer": "ipython3",
   "version": "3.10.12"
  }
 },
 "nbformat": 4,
 "nbformat_minor": 2
}
