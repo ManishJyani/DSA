{
 "cells": [
  {
   "cell_type": "code",
   "execution_count": 19,
   "metadata": {},
   "outputs": [],
   "source": [
    "## Above is the address of actual object stored in the list"
   ]
  },
  {
   "cell_type": "code",
   "execution_count": 16,
   "metadata": {},
   "outputs": [],
   "source": [
    "# so heere is the story:\n",
    "# mylist= [10,20,20]\n",
    "# we declared a varialbe now how this will get stored\n",
    "# these items will not be stored sequencely , but the address (pointers) of these items. these items can be stored anywhere in memoey block"
   ]
  },
  {
   "cell_type": "code",
   "execution_count": 27,
   "metadata": {},
   "outputs": [
    {
     "name": "stdout",
     "output_type": "stream",
     "text": [
      "130615457349872\n",
      "130615457349936\n",
      "130615457349872\n"
     ]
    }
   ],
   "source": [
    "mylist= [1,3,1]\n",
    "for item in mylist:\n",
    "    print(id(item))"
   ]
  },
  {
   "cell_type": "code",
   "execution_count": 20,
   "metadata": {},
   "outputs": [],
   "source": [
    "# above is the address of the [1, 3, 1] but these are not sequencial becuase they are not getting stoered like this ,they are random but the catch is there pointer address \n",
    "# 130615457349872\n",
    "#130615457349936\n",
    "#130615457349872\n",
    "# these are getting stored sequencially."
   ]
  },
  {
   "cell_type": "code",
   "execution_count": 31,
   "metadata": {},
   "outputs": [
    {
     "name": "stdout",
     "output_type": "stream",
     "text": [
      "Memory address where the list stores its references: 0x76cb45176248\n",
      "Reference 0 address: 130615409599048\n",
      "Reference 1 address: 130615409599056\n",
      "Reference 2 address: 130615409599064\n",
      "Reference 3 address: 130615409599072\n",
      "Reference 4 address: 130615409599080\n",
      "Reference 5 address: 130615409599088\n",
      "Reference 6 address: 130615409599096\n",
      "Difference between reference 0 and 1: 8 bytes\n",
      "Difference between reference 1 and 2: 8 bytes\n",
      "Difference between reference 2 and 3: 8 bytes\n",
      "Difference between reference 3 and 4: 8 bytes\n",
      "Difference between reference 4 and 5: 8 bytes\n",
      "Difference between reference 5 and 6: 8 bytes\n"
     ]
    }
   ],
   "source": [
    "import ctypes\n",
    "\n",
    "# Create a list\n",
    "my_list = [10, 20, 30,40,50,60,70]\n",
    "\n",
    "# Get the memory address of the list object itself\n",
    "list_address = id(my_list)\n",
    "\n",
    "# Use ctypes to access the internal memory layout of the list\n",
    "def get_list_references_address(list_obj):\n",
    "    # Get the address of the list object\n",
    "    list_address = id(list_obj)\n",
    "    \n",
    "    # Cast the list object to a ctypes pointer\n",
    "    list_ptr = ctypes.cast(list_address, ctypes.POINTER(ctypes.c_void_p))\n",
    "    \n",
    "    # The actual array of references is stored at an offset within the list object\n",
    "    # For CPython, the offset is typically 1 word (8 bytes on 64-bit systems)\n",
    "    offset = ctypes.sizeof(ctypes.c_void_p)\n",
    "    references_address = ctypes.addressof(list_ptr.contents) + offset\n",
    "    \n",
    "    return references_address\n",
    "\n",
    "# Get the memory address where the list stores its references\n",
    "references_address = get_list_references_address(my_list)\n",
    "print(f\"Memory address where the list stores its references: {hex(references_address)}\")\n",
    "\n",
    "# Calculate the addresses of the individual references\n",
    "reference_size = ctypes.sizeof(ctypes.c_void_p)  # 8 bytes on 64-bit systems\n",
    "for i in range(len(my_list)):\n",
    "    ref_address = references_address + i * reference_size\n",
    "    print(f\"Reference {i} address: {int(ref_address)}\")\n",
    "\n",
    "# Verify the spacing between references\n",
    "for i in range(1, len(my_list)):\n",
    "    diff = (references_address + i * reference_size) - (references_address + (i - 1) * reference_size)\n",
    "    print(f\"Difference between reference {i-1} and {i}: {diff} bytes\")"
   ]
  },
  {
   "cell_type": "code",
   "execution_count": null,
   "metadata": {},
   "outputs": [],
   "source": []
  }
 ],
 "metadata": {
  "kernelspec": {
   "display_name": "Python 3",
   "language": "python",
   "name": "python3"
  },
  "language_info": {
   "codemirror_mode": {
    "name": "ipython",
    "version": 3
   },
   "file_extension": ".py",
   "mimetype": "text/x-python",
   "name": "python",
   "nbconvert_exporter": "python",
   "pygments_lexer": "ipython3",
   "version": "3.10.12"
  }
 },
 "nbformat": 4,
 "nbformat_minor": 2
}
